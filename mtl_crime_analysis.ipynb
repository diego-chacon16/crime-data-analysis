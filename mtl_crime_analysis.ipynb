{
 "cells": [
  {
   "cell_type": "markdown",
   "id": "19a8c43d-57a2-4831-ac72-672a11099a32",
   "metadata": {},
   "source": [
    "# Objective \n",
    "\n",
    "#### Analyze the data and draw conclusions on the distribution and nature of crime in Montreal City. \n",
    "\n",
    "## Insights to Gather\n",
    "\n",
    "1. What are the top 3 prevalent crimes or offenses committed in Montreal City?\n",
    "2. What part of the day did most crime incidents occur?\n",
    "3. Which top 5 police precincts (PDQ) got the most crime complaints?\n",
    "4. Which are the top 3 PDQs that got the least crime complaints?\n",
    "5. Which neighborhoods recorded the highest crime incidents and what are the crime types in these neighborhoods?\n",
    "6. Which neighborhood has the most cases of murder?"
   ]
  },
  {
   "cell_type": "code",
   "execution_count": 2,
   "id": "a9a80af0-bd5b-438d-8f08-860a370b38ca",
   "metadata": {},
   "outputs": [
    {
     "data": {
      "text/html": [
       "<div>\n",
       "<style scoped>\n",
       "    .dataframe tbody tr th:only-of-type {\n",
       "        vertical-align: middle;\n",
       "    }\n",
       "\n",
       "    .dataframe tbody tr th {\n",
       "        vertical-align: top;\n",
       "    }\n",
       "\n",
       "    .dataframe thead th {\n",
       "        text-align: right;\n",
       "    }\n",
       "</style>\n",
       "<table border=\"1\" class=\"dataframe\">\n",
       "  <thead>\n",
       "    <tr style=\"text-align: right;\">\n",
       "      <th></th>\n",
       "      <th>Categorie</th>\n",
       "      <th>Category</th>\n",
       "      <th>Date</th>\n",
       "      <th>Time of Day</th>\n",
       "      <th>PDQ</th>\n",
       "      <th>x</th>\n",
       "      <th>y</th>\n",
       "      <th>Latitude</th>\n",
       "      <th>Longitude</th>\n",
       "    </tr>\n",
       "  </thead>\n",
       "  <tbody>\n",
       "    <tr>\n",
       "      <th>239171</th>\n",
       "      <td>Vol dans / sur véhicule à moteur</td>\n",
       "      <td>Theft From / To Motor Vehicle</td>\n",
       "      <td>2022-01-21</td>\n",
       "      <td>nuit</td>\n",
       "      <td>5.0</td>\n",
       "      <td>286738.781</td>\n",
       "      <td>5034640.500</td>\n",
       "      <td>-73.730911</td>\n",
       "      <td>45.451461</td>\n",
       "    </tr>\n",
       "    <tr>\n",
       "      <th>241143</th>\n",
       "      <td>Vol dans / sur véhicule à moteur</td>\n",
       "      <td>Theft From / To Motor Vehicle</td>\n",
       "      <td>2022-01-13</td>\n",
       "      <td>soir</td>\n",
       "      <td>46.0</td>\n",
       "      <td>301170.719</td>\n",
       "      <td>5052541.000</td>\n",
       "      <td>-73.546533</td>\n",
       "      <td>45.612761</td>\n",
       "    </tr>\n",
       "    <tr>\n",
       "      <th>71477</th>\n",
       "      <td>Vol dans / sur véhicule à moteur</td>\n",
       "      <td>Theft From / To Motor Vehicle</td>\n",
       "      <td>2017-04-08</td>\n",
       "      <td>soir</td>\n",
       "      <td>35.0</td>\n",
       "      <td>NaN</td>\n",
       "      <td>NaN</td>\n",
       "      <td>NaN</td>\n",
       "      <td>NaN</td>\n",
       "    </tr>\n",
       "    <tr>\n",
       "      <th>220515</th>\n",
       "      <td>Méfait</td>\n",
       "      <td>Mischief</td>\n",
       "      <td>2022-02-03</td>\n",
       "      <td>soir</td>\n",
       "      <td>26.0</td>\n",
       "      <td>296411.468</td>\n",
       "      <td>5039514.749</td>\n",
       "      <td>-73.607330</td>\n",
       "      <td>45.495505</td>\n",
       "    </tr>\n",
       "    <tr>\n",
       "      <th>145543</th>\n",
       "      <td>Vol dans / sur véhicule à moteur</td>\n",
       "      <td>Theft From / To Motor Vehicle</td>\n",
       "      <td>2019-10-20</td>\n",
       "      <td>nuit</td>\n",
       "      <td>38.0</td>\n",
       "      <td>298718.852</td>\n",
       "      <td>5040797.622</td>\n",
       "      <td>-73.577823</td>\n",
       "      <td>45.507073</td>\n",
       "    </tr>\n",
       "    <tr>\n",
       "      <th>8442</th>\n",
       "      <td>Vol de véhicule à moteur</td>\n",
       "      <td>Theft of Motor Vehicle</td>\n",
       "      <td>2016-02-01</td>\n",
       "      <td>nuit</td>\n",
       "      <td>39.0</td>\n",
       "      <td>294232.206</td>\n",
       "      <td>5049929.965</td>\n",
       "      <td>-73.635438</td>\n",
       "      <td>45.589195</td>\n",
       "    </tr>\n",
       "    <tr>\n",
       "      <th>141468</th>\n",
       "      <td>Vols qualifiés</td>\n",
       "      <td>Robbery</td>\n",
       "      <td>2019-05-29</td>\n",
       "      <td>jour</td>\n",
       "      <td>23.0</td>\n",
       "      <td>301924.195</td>\n",
       "      <td>5046352.614</td>\n",
       "      <td>-73.536836</td>\n",
       "      <td>45.557079</td>\n",
       "    </tr>\n",
       "    <tr>\n",
       "      <th>130051</th>\n",
       "      <td>Vol dans / sur véhicule à moteur</td>\n",
       "      <td>Theft From / To Motor Vehicle</td>\n",
       "      <td>2018-12-01</td>\n",
       "      <td>jour</td>\n",
       "      <td>38.0</td>\n",
       "      <td>297820.809</td>\n",
       "      <td>5042397.078</td>\n",
       "      <td>-73.589339</td>\n",
       "      <td>45.521457</td>\n",
       "    </tr>\n",
       "    <tr>\n",
       "      <th>126634</th>\n",
       "      <td>Introduction</td>\n",
       "      <td>Breaking &amp; Entering</td>\n",
       "      <td>2019-09-15</td>\n",
       "      <td>jour</td>\n",
       "      <td>13.0</td>\n",
       "      <td>294577.750</td>\n",
       "      <td>5031274.500</td>\n",
       "      <td>-73.630621</td>\n",
       "      <td>45.421331</td>\n",
       "    </tr>\n",
       "    <tr>\n",
       "      <th>65022</th>\n",
       "      <td>Vols qualifiés</td>\n",
       "      <td>Robbery</td>\n",
       "      <td>2016-11-05</td>\n",
       "      <td>soir</td>\n",
       "      <td>21.0</td>\n",
       "      <td>299962.840</td>\n",
       "      <td>5041609.764</td>\n",
       "      <td>-73.561911</td>\n",
       "      <td>45.514391</td>\n",
       "    </tr>\n",
       "  </tbody>\n",
       "</table>\n",
       "</div>"
      ],
      "text/plain": [
       "                               Categorie                       Category  \\\n",
       "239171  Vol dans / sur véhicule à moteur  Theft From / To Motor Vehicle   \n",
       "241143  Vol dans / sur véhicule à moteur  Theft From / To Motor Vehicle   \n",
       "71477   Vol dans / sur véhicule à moteur  Theft From / To Motor Vehicle   \n",
       "220515                            Méfait                       Mischief   \n",
       "145543  Vol dans / sur véhicule à moteur  Theft From / To Motor Vehicle   \n",
       "8442            Vol de véhicule à moteur         Theft of Motor Vehicle   \n",
       "141468                    Vols qualifiés                        Robbery   \n",
       "130051  Vol dans / sur véhicule à moteur  Theft From / To Motor Vehicle   \n",
       "126634                      Introduction            Breaking & Entering   \n",
       "65022                     Vols qualifiés                        Robbery   \n",
       "\n",
       "              Date Time of Day   PDQ           x            y   Latitude  \\\n",
       "239171  2022-01-21        nuit   5.0  286738.781  5034640.500 -73.730911   \n",
       "241143  2022-01-13        soir  46.0  301170.719  5052541.000 -73.546533   \n",
       "71477   2017-04-08        soir  35.0         NaN          NaN        NaN   \n",
       "220515  2022-02-03        soir  26.0  296411.468  5039514.749 -73.607330   \n",
       "145543  2019-10-20        nuit  38.0  298718.852  5040797.622 -73.577823   \n",
       "8442    2016-02-01        nuit  39.0  294232.206  5049929.965 -73.635438   \n",
       "141468  2019-05-29        jour  23.0  301924.195  5046352.614 -73.536836   \n",
       "130051  2018-12-01        jour  38.0  297820.809  5042397.078 -73.589339   \n",
       "126634  2019-09-15        jour  13.0  294577.750  5031274.500 -73.630621   \n",
       "65022   2016-11-05        soir  21.0  299962.840  5041609.764 -73.561911   \n",
       "\n",
       "        Longitude  \n",
       "239171  45.451461  \n",
       "241143  45.612761  \n",
       "71477         NaN  \n",
       "220515  45.495505  \n",
       "145543  45.507073  \n",
       "8442    45.589195  \n",
       "141468  45.557079  \n",
       "130051  45.521457  \n",
       "126634  45.421331  \n",
       "65022   45.514391  "
      ]
     },
     "execution_count": 2,
     "metadata": {},
     "output_type": "execute_result"
    }
   ],
   "source": [
    "# importing libraries\n",
    "import pandas as pd\n",
    "import numpy as np\n",
    "import seaborn as sns\n",
    "import matplotlib.pyplot as plt\n",
    "import datetime\n",
    "\n",
    "# importing csv and storing it under variable df\n",
    "df = pd.read_csv('data/actes-criminels.csv')\n",
    "\n",
    "# looking at ten random samples in the dataset\n",
    "df.sample(n = 10, random_state = 42)"
   ]
  },
  {
   "cell_type": "code",
   "execution_count": 3,
   "id": "a4cb634a-9311-462b-ab67-dfba197f4233",
   "metadata": {},
   "outputs": [
    {
     "name": "stdout",
     "output_type": "stream",
     "text": [
      "<class 'pandas.core.frame.DataFrame'>\n",
      "RangeIndex: 244117 entries, 0 to 244116\n",
      "Data columns (total 9 columns):\n",
      " #   Column       Non-Null Count   Dtype  \n",
      "---  ------       --------------   -----  \n",
      " 0   Categorie    244117 non-null  object \n",
      " 1   Category     244117 non-null  object \n",
      " 2   Date         244117 non-null  object \n",
      " 3   Time of Day  244117 non-null  object \n",
      " 4   PDQ          244112 non-null  float64\n",
      " 5   x            202724 non-null  float64\n",
      " 6   y            202724 non-null  float64\n",
      " 7   Latitude     202724 non-null  float64\n",
      " 8   Longitude    202724 non-null  float64\n",
      "dtypes: float64(5), object(4)\n",
      "memory usage: 16.8+ MB\n"
     ]
    }
   ],
   "source": [
    "# taking a look at the landscape\n",
    "df.info()"
   ]
  },
  {
   "cell_type": "code",
   "execution_count": 4,
   "id": "7267a640-96d0-4252-a087-3ec385b04311",
   "metadata": {},
   "outputs": [
    {
     "data": {
      "text/plain": [
       "Categorie          0\n",
       "Category           0\n",
       "Date               0\n",
       "Time of Day        0\n",
       "PDQ                5\n",
       "x              41393\n",
       "y              41393\n",
       "Latitude       41393\n",
       "Longitude      41393\n",
       "dtype: int64"
      ]
     },
     "execution_count": 4,
     "metadata": {},
     "output_type": "execute_result"
    }
   ],
   "source": [
    "# searching for null values by column\n",
    "df.isnull().sum()"
   ]
  },
  {
   "cell_type": "code",
   "execution_count": null,
   "id": "2f038421-4371-499b-8f2b-4012bc72165b",
   "metadata": {},
   "outputs": [],
   "source": []
  },
  {
   "cell_type": "code",
   "execution_count": null,
   "id": "b7ad9212-ef14-488a-880c-30f581c96ab9",
   "metadata": {},
   "outputs": [],
   "source": []
  },
  {
   "cell_type": "code",
   "execution_count": null,
   "id": "c09862a2-5a0e-4d0c-8407-639c447bb1ca",
   "metadata": {},
   "outputs": [],
   "source": []
  },
  {
   "cell_type": "code",
   "execution_count": null,
   "id": "475e7640-f5c3-4adf-a94a-6ef7a78bb9e5",
   "metadata": {},
   "outputs": [],
   "source": []
  },
  {
   "cell_type": "code",
   "execution_count": null,
   "id": "0297b55e-8c9b-4a8d-a035-eda8044610e5",
   "metadata": {},
   "outputs": [],
   "source": []
  },
  {
   "cell_type": "code",
   "execution_count": null,
   "id": "ad5792af-ae82-4ed8-9b67-db6626685632",
   "metadata": {},
   "outputs": [],
   "source": []
  },
  {
   "cell_type": "code",
   "execution_count": null,
   "id": "0e4adfe6-29b3-45eb-aa83-d76ba383c9d9",
   "metadata": {},
   "outputs": [],
   "source": []
  },
  {
   "cell_type": "code",
   "execution_count": null,
   "id": "a379418f-da6d-4d9f-892b-c17e1fcaebea",
   "metadata": {},
   "outputs": [],
   "source": []
  },
  {
   "cell_type": "code",
   "execution_count": null,
   "id": "36a00b4c-f2b3-4116-bbc4-b611644075c6",
   "metadata": {},
   "outputs": [],
   "source": []
  },
  {
   "cell_type": "code",
   "execution_count": null,
   "id": "c73541f1-e59b-4d7a-bc23-324172b06f42",
   "metadata": {},
   "outputs": [],
   "source": []
  },
  {
   "cell_type": "code",
   "execution_count": null,
   "id": "8d738070-c1bf-4aa0-9fd5-2be3d69255f1",
   "metadata": {},
   "outputs": [],
   "source": []
  },
  {
   "cell_type": "code",
   "execution_count": null,
   "id": "2de5dd68-b2d5-4f0c-b463-6cf46c055215",
   "metadata": {},
   "outputs": [],
   "source": []
  },
  {
   "cell_type": "code",
   "execution_count": null,
   "id": "22bff061-ca6b-4c67-9545-03c8ac4af6d7",
   "metadata": {},
   "outputs": [],
   "source": []
  },
  {
   "cell_type": "code",
   "execution_count": null,
   "id": "4d84c4b4-1f95-4180-9ad8-6f7b4f688eba",
   "metadata": {},
   "outputs": [],
   "source": []
  },
  {
   "cell_type": "code",
   "execution_count": null,
   "id": "ff326dd2-7e93-4b7a-8c0a-9d3ffe73a9f3",
   "metadata": {},
   "outputs": [],
   "source": []
  },
  {
   "cell_type": "code",
   "execution_count": null,
   "id": "a98701ef-9e7e-4407-b6b4-82d3b3d8e0c1",
   "metadata": {},
   "outputs": [],
   "source": []
  },
  {
   "cell_type": "code",
   "execution_count": null,
   "id": "4e7ecf27-7c1e-4d55-bdb6-47c005f4a488",
   "metadata": {},
   "outputs": [],
   "source": []
  },
  {
   "cell_type": "code",
   "execution_count": null,
   "id": "aca09dce-81d7-44b0-a97f-8aa8b76b4638",
   "metadata": {},
   "outputs": [],
   "source": []
  },
  {
   "cell_type": "code",
   "execution_count": null,
   "id": "3ae3e290-e294-45cc-95df-3925c2324d7a",
   "metadata": {},
   "outputs": [],
   "source": []
  },
  {
   "cell_type": "code",
   "execution_count": null,
   "id": "89d68909-e87a-415b-a0d8-7de2456ce939",
   "metadata": {},
   "outputs": [],
   "source": []
  },
  {
   "cell_type": "code",
   "execution_count": null,
   "id": "85afd8d9-71bb-4d15-b5a2-a93d53dd1ed6",
   "metadata": {},
   "outputs": [],
   "source": []
  },
  {
   "cell_type": "code",
   "execution_count": null,
   "id": "62f86801-89a6-4202-af39-241291b574c7",
   "metadata": {},
   "outputs": [],
   "source": []
  },
  {
   "cell_type": "code",
   "execution_count": null,
   "id": "a55055b5-b5e2-4cb4-ae77-98dd42e5d471",
   "metadata": {},
   "outputs": [],
   "source": []
  },
  {
   "cell_type": "code",
   "execution_count": null,
   "id": "281b3007-f338-4d42-921b-75f7afe14f44",
   "metadata": {},
   "outputs": [],
   "source": []
  },
  {
   "cell_type": "code",
   "execution_count": null,
   "id": "4cb70c39-50a2-4490-9916-ccdf04b9b12b",
   "metadata": {},
   "outputs": [],
   "source": []
  },
  {
   "cell_type": "code",
   "execution_count": null,
   "id": "a5ab26fc-f48c-47e1-87d8-c3c0185fcf04",
   "metadata": {},
   "outputs": [],
   "source": []
  },
  {
   "cell_type": "code",
   "execution_count": null,
   "id": "c5d7c8e7-2960-4e93-a366-8a5b6dfb879c",
   "metadata": {},
   "outputs": [],
   "source": []
  },
  {
   "cell_type": "code",
   "execution_count": null,
   "id": "cbe39c58-2419-4b70-aca6-2921b9d668f6",
   "metadata": {},
   "outputs": [],
   "source": []
  },
  {
   "cell_type": "code",
   "execution_count": null,
   "id": "214b1f26-9bd5-42a4-8fdf-61c50d5daf35",
   "metadata": {},
   "outputs": [],
   "source": []
  },
  {
   "cell_type": "code",
   "execution_count": null,
   "id": "1750e726-e53c-470b-9575-efa8d1032966",
   "metadata": {},
   "outputs": [],
   "source": []
  },
  {
   "cell_type": "code",
   "execution_count": null,
   "id": "c6e56cc2-fb77-4ec5-ab89-eeb569589df4",
   "metadata": {},
   "outputs": [],
   "source": []
  },
  {
   "cell_type": "code",
   "execution_count": null,
   "id": "23342a60-9dd6-471d-bd15-991963cbb883",
   "metadata": {},
   "outputs": [],
   "source": []
  },
  {
   "cell_type": "code",
   "execution_count": null,
   "id": "85f939f2-64a7-4253-b0c0-53ce7418a851",
   "metadata": {},
   "outputs": [],
   "source": []
  },
  {
   "cell_type": "code",
   "execution_count": null,
   "id": "d6bee6f8-98fb-4bcf-9cce-c97eed14f974",
   "metadata": {},
   "outputs": [],
   "source": []
  }
 ],
 "metadata": {
  "kernelspec": {
   "display_name": "Python 3",
   "language": "python",
   "name": "python3"
  },
  "language_info": {
   "codemirror_mode": {
    "name": "ipython",
    "version": 3
   },
   "file_extension": ".py",
   "mimetype": "text/x-python",
   "name": "python",
   "nbconvert_exporter": "python",
   "pygments_lexer": "ipython3",
   "version": "3.8.8"
  }
 },
 "nbformat": 4,
 "nbformat_minor": 5
}
