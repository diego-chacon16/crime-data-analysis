{
 "cells": [
  {
   "cell_type": "markdown",
   "id": "19a8c43d-57a2-4831-ac72-672a11099a32",
   "metadata": {},
   "source": [
    "# Objective \n",
    "\n",
    "#### Analyze the data and draw conclusions on the distribution and nature of crime in Montreal City. \n",
    "\n",
    "## Insights to Gather\n",
    "\n",
    "1. What are the top 3 prevalent crimes or offenses committed in Montreal City?\n",
    "2. What part of the day did most crime incidents occur?\n",
    "3. Which top 5 police precincts (PDQ) got the most crime complaints?\n",
    "4. Which are the top 3 PDQs that got the least crime complaints?\n",
    "5. Which neighborhoods recorded the highest crime incidents and what are the crime types in these neighborhoods?\n",
    "6. Which neighborhood has the most cases of murder?"
   ]
  },
  {
   "cell_type": "code",
   "execution_count": 1,
   "id": "a9a80af0-bd5b-438d-8f08-860a370b38ca",
   "metadata": {},
   "outputs": [
    {
     "data": {
      "text/html": [
       "<div>\n",
       "<style scoped>\n",
       "    .dataframe tbody tr th:only-of-type {\n",
       "        vertical-align: middle;\n",
       "    }\n",
       "\n",
       "    .dataframe tbody tr th {\n",
       "        vertical-align: top;\n",
       "    }\n",
       "\n",
       "    .dataframe thead th {\n",
       "        text-align: right;\n",
       "    }\n",
       "</style>\n",
       "<table border=\"1\" class=\"dataframe\">\n",
       "  <thead>\n",
       "    <tr style=\"text-align: right;\">\n",
       "      <th></th>\n",
       "      <th>Categorie</th>\n",
       "      <th>Category</th>\n",
       "      <th>Date</th>\n",
       "      <th>Time of Day</th>\n",
       "      <th>PDQ</th>\n",
       "      <th>x</th>\n",
       "      <th>y</th>\n",
       "      <th>Latitude</th>\n",
       "      <th>Longitude</th>\n",
       "    </tr>\n",
       "  </thead>\n",
       "  <tbody>\n",
       "    <tr>\n",
       "      <th>239171</th>\n",
       "      <td>Vol dans / sur véhicule à moteur</td>\n",
       "      <td>Theft From / To Motor Vehicle</td>\n",
       "      <td>2022-01-21</td>\n",
       "      <td>nuit</td>\n",
       "      <td>5.0</td>\n",
       "      <td>286738.781</td>\n",
       "      <td>5034640.500</td>\n",
       "      <td>-73.730911</td>\n",
       "      <td>45.451461</td>\n",
       "    </tr>\n",
       "    <tr>\n",
       "      <th>241143</th>\n",
       "      <td>Vol dans / sur véhicule à moteur</td>\n",
       "      <td>Theft From / To Motor Vehicle</td>\n",
       "      <td>2022-01-13</td>\n",
       "      <td>soir</td>\n",
       "      <td>46.0</td>\n",
       "      <td>301170.719</td>\n",
       "      <td>5052541.000</td>\n",
       "      <td>-73.546533</td>\n",
       "      <td>45.612761</td>\n",
       "    </tr>\n",
       "    <tr>\n",
       "      <th>71477</th>\n",
       "      <td>Vol dans / sur véhicule à moteur</td>\n",
       "      <td>Theft From / To Motor Vehicle</td>\n",
       "      <td>2017-04-08</td>\n",
       "      <td>soir</td>\n",
       "      <td>35.0</td>\n",
       "      <td>NaN</td>\n",
       "      <td>NaN</td>\n",
       "      <td>NaN</td>\n",
       "      <td>NaN</td>\n",
       "    </tr>\n",
       "    <tr>\n",
       "      <th>220515</th>\n",
       "      <td>Méfait</td>\n",
       "      <td>Mischief</td>\n",
       "      <td>2022-02-03</td>\n",
       "      <td>soir</td>\n",
       "      <td>26.0</td>\n",
       "      <td>296411.468</td>\n",
       "      <td>5039514.749</td>\n",
       "      <td>-73.607330</td>\n",
       "      <td>45.495505</td>\n",
       "    </tr>\n",
       "    <tr>\n",
       "      <th>145543</th>\n",
       "      <td>Vol dans / sur véhicule à moteur</td>\n",
       "      <td>Theft From / To Motor Vehicle</td>\n",
       "      <td>2019-10-20</td>\n",
       "      <td>nuit</td>\n",
       "      <td>38.0</td>\n",
       "      <td>298718.852</td>\n",
       "      <td>5040797.622</td>\n",
       "      <td>-73.577823</td>\n",
       "      <td>45.507073</td>\n",
       "    </tr>\n",
       "    <tr>\n",
       "      <th>8442</th>\n",
       "      <td>Vol de véhicule à moteur</td>\n",
       "      <td>Theft of Motor Vehicle</td>\n",
       "      <td>2016-02-01</td>\n",
       "      <td>nuit</td>\n",
       "      <td>39.0</td>\n",
       "      <td>294232.206</td>\n",
       "      <td>5049929.965</td>\n",
       "      <td>-73.635438</td>\n",
       "      <td>45.589195</td>\n",
       "    </tr>\n",
       "    <tr>\n",
       "      <th>141468</th>\n",
       "      <td>Vols qualifiés</td>\n",
       "      <td>Robbery</td>\n",
       "      <td>2019-05-29</td>\n",
       "      <td>jour</td>\n",
       "      <td>23.0</td>\n",
       "      <td>301924.195</td>\n",
       "      <td>5046352.614</td>\n",
       "      <td>-73.536836</td>\n",
       "      <td>45.557079</td>\n",
       "    </tr>\n",
       "    <tr>\n",
       "      <th>130051</th>\n",
       "      <td>Vol dans / sur véhicule à moteur</td>\n",
       "      <td>Theft From / To Motor Vehicle</td>\n",
       "      <td>2018-12-01</td>\n",
       "      <td>jour</td>\n",
       "      <td>38.0</td>\n",
       "      <td>297820.809</td>\n",
       "      <td>5042397.078</td>\n",
       "      <td>-73.589339</td>\n",
       "      <td>45.521457</td>\n",
       "    </tr>\n",
       "    <tr>\n",
       "      <th>126634</th>\n",
       "      <td>Introduction</td>\n",
       "      <td>Breaking &amp; Entering</td>\n",
       "      <td>2019-09-15</td>\n",
       "      <td>jour</td>\n",
       "      <td>13.0</td>\n",
       "      <td>294577.750</td>\n",
       "      <td>5031274.500</td>\n",
       "      <td>-73.630621</td>\n",
       "      <td>45.421331</td>\n",
       "    </tr>\n",
       "    <tr>\n",
       "      <th>65022</th>\n",
       "      <td>Vols qualifiés</td>\n",
       "      <td>Robbery</td>\n",
       "      <td>2016-11-05</td>\n",
       "      <td>soir</td>\n",
       "      <td>21.0</td>\n",
       "      <td>299962.840</td>\n",
       "      <td>5041609.764</td>\n",
       "      <td>-73.561911</td>\n",
       "      <td>45.514391</td>\n",
       "    </tr>\n",
       "  </tbody>\n",
       "</table>\n",
       "</div>"
      ],
      "text/plain": [
       "                               Categorie                       Category  \\\n",
       "239171  Vol dans / sur véhicule à moteur  Theft From / To Motor Vehicle   \n",
       "241143  Vol dans / sur véhicule à moteur  Theft From / To Motor Vehicle   \n",
       "71477   Vol dans / sur véhicule à moteur  Theft From / To Motor Vehicle   \n",
       "220515                            Méfait                       Mischief   \n",
       "145543  Vol dans / sur véhicule à moteur  Theft From / To Motor Vehicle   \n",
       "8442            Vol de véhicule à moteur         Theft of Motor Vehicle   \n",
       "141468                    Vols qualifiés                        Robbery   \n",
       "130051  Vol dans / sur véhicule à moteur  Theft From / To Motor Vehicle   \n",
       "126634                      Introduction            Breaking & Entering   \n",
       "65022                     Vols qualifiés                        Robbery   \n",
       "\n",
       "              Date Time of Day   PDQ           x            y   Latitude  \\\n",
       "239171  2022-01-21        nuit   5.0  286738.781  5034640.500 -73.730911   \n",
       "241143  2022-01-13        soir  46.0  301170.719  5052541.000 -73.546533   \n",
       "71477   2017-04-08        soir  35.0         NaN          NaN        NaN   \n",
       "220515  2022-02-03        soir  26.0  296411.468  5039514.749 -73.607330   \n",
       "145543  2019-10-20        nuit  38.0  298718.852  5040797.622 -73.577823   \n",
       "8442    2016-02-01        nuit  39.0  294232.206  5049929.965 -73.635438   \n",
       "141468  2019-05-29        jour  23.0  301924.195  5046352.614 -73.536836   \n",
       "130051  2018-12-01        jour  38.0  297820.809  5042397.078 -73.589339   \n",
       "126634  2019-09-15        jour  13.0  294577.750  5031274.500 -73.630621   \n",
       "65022   2016-11-05        soir  21.0  299962.840  5041609.764 -73.561911   \n",
       "\n",
       "        Longitude  \n",
       "239171  45.451461  \n",
       "241143  45.612761  \n",
       "71477         NaN  \n",
       "220515  45.495505  \n",
       "145543  45.507073  \n",
       "8442    45.589195  \n",
       "141468  45.557079  \n",
       "130051  45.521457  \n",
       "126634  45.421331  \n",
       "65022   45.514391  "
      ]
     },
     "execution_count": 1,
     "metadata": {},
     "output_type": "execute_result"
    }
   ],
   "source": [
    "# importing libraries\n",
    "import pandas as pd\n",
    "import numpy as np\n",
    "import seaborn as sns\n",
    "import matplotlib.pyplot as plt\n",
    "import datetime\n",
    "\n",
    "# importing csv and storing it under variable df\n",
    "df = pd.read_csv('data/actes-criminels.csv')\n",
    "\n",
    "# looking at ten random samples in the dataset\n",
    "df.sample(n = 10, random_state = 42)"
   ]
  },
  {
   "cell_type": "code",
   "execution_count": 2,
   "id": "a4cb634a-9311-462b-ab67-dfba197f4233",
   "metadata": {},
   "outputs": [
    {
     "name": "stdout",
     "output_type": "stream",
     "text": [
      "<class 'pandas.core.frame.DataFrame'>\n",
      "RangeIndex: 244117 entries, 0 to 244116\n",
      "Data columns (total 9 columns):\n",
      " #   Column       Non-Null Count   Dtype  \n",
      "---  ------       --------------   -----  \n",
      " 0   Categorie    244117 non-null  object \n",
      " 1   Category     244117 non-null  object \n",
      " 2   Date         244117 non-null  object \n",
      " 3   Time of Day  244117 non-null  object \n",
      " 4   PDQ          244112 non-null  float64\n",
      " 5   x            202724 non-null  float64\n",
      " 6   y            202724 non-null  float64\n",
      " 7   Latitude     202724 non-null  float64\n",
      " 8   Longitude    202724 non-null  float64\n",
      "dtypes: float64(5), object(4)\n",
      "memory usage: 16.8+ MB\n"
     ]
    }
   ],
   "source": [
    "# taking a look at the landscape\n",
    "df.info()"
   ]
  },
  {
   "cell_type": "code",
   "execution_count": 3,
   "id": "7267a640-96d0-4252-a087-3ec385b04311",
   "metadata": {},
   "outputs": [
    {
     "data": {
      "text/plain": [
       "Categorie          0\n",
       "Category           0\n",
       "Date               0\n",
       "Time of Day        0\n",
       "PDQ                5\n",
       "x              41393\n",
       "y              41393\n",
       "Latitude       41393\n",
       "Longitude      41393\n",
       "dtype: int64"
      ]
     },
     "execution_count": 3,
     "metadata": {},
     "output_type": "execute_result"
    }
   ],
   "source": [
    "# searching for null values by column\n",
    "df.isnull().sum()"
   ]
  },
  {
   "cell_type": "code",
   "execution_count": 4,
   "id": "2f038421-4371-499b-8f2b-4012bc72165b",
   "metadata": {},
   "outputs": [
    {
     "data": {
      "text/html": [
       "<div>\n",
       "<style scoped>\n",
       "    .dataframe tbody tr th:only-of-type {\n",
       "        vertical-align: middle;\n",
       "    }\n",
       "\n",
       "    .dataframe tbody tr th {\n",
       "        vertical-align: top;\n",
       "    }\n",
       "\n",
       "    .dataframe thead th {\n",
       "        text-align: right;\n",
       "    }\n",
       "</style>\n",
       "<table border=\"1\" class=\"dataframe\">\n",
       "  <thead>\n",
       "    <tr style=\"text-align: right;\">\n",
       "      <th></th>\n",
       "      <th>PDQ</th>\n",
       "      <th>x</th>\n",
       "      <th>y</th>\n",
       "      <th>Latitude</th>\n",
       "      <th>Longitude</th>\n",
       "    </tr>\n",
       "  </thead>\n",
       "  <tbody>\n",
       "    <tr>\n",
       "      <th>count</th>\n",
       "      <td>244112.00</td>\n",
       "      <td>202724.00</td>\n",
       "      <td>202724.00</td>\n",
       "      <td>202724.00</td>\n",
       "      <td>202724.00</td>\n",
       "    </tr>\n",
       "    <tr>\n",
       "      <th>mean</th>\n",
       "      <td>26.32</td>\n",
       "      <td>295794.17</td>\n",
       "      <td>5043227.57</td>\n",
       "      <td>-73.62</td>\n",
       "      <td>45.53</td>\n",
       "    </tr>\n",
       "    <tr>\n",
       "      <th>std</th>\n",
       "      <td>14.03</td>\n",
       "      <td>6085.98</td>\n",
       "      <td>6070.39</td>\n",
       "      <td>0.08</td>\n",
       "      <td>0.05</td>\n",
       "    </tr>\n",
       "    <tr>\n",
       "      <th>min</th>\n",
       "      <td>1.00</td>\n",
       "      <td>268109.61</td>\n",
       "      <td>5029291.47</td>\n",
       "      <td>-73.97</td>\n",
       "      <td>45.40</td>\n",
       "    </tr>\n",
       "    <tr>\n",
       "      <th>25%</th>\n",
       "      <td>15.00</td>\n",
       "      <td>293900.98</td>\n",
       "      <td>5039087.60</td>\n",
       "      <td>-73.64</td>\n",
       "      <td>45.49</td>\n",
       "    </tr>\n",
       "    <tr>\n",
       "      <th>50%</th>\n",
       "      <td>26.00</td>\n",
       "      <td>297338.25</td>\n",
       "      <td>5042878.08</td>\n",
       "      <td>-73.60</td>\n",
       "      <td>45.53</td>\n",
       "    </tr>\n",
       "    <tr>\n",
       "      <th>75%</th>\n",
       "      <td>39.00</td>\n",
       "      <td>299665.90</td>\n",
       "      <td>5047188.21</td>\n",
       "      <td>-73.57</td>\n",
       "      <td>45.56</td>\n",
       "    </tr>\n",
       "    <tr>\n",
       "      <th>max</th>\n",
       "      <td>55.00</td>\n",
       "      <td>306389.86</td>\n",
       "      <td>5062496.46</td>\n",
       "      <td>-73.48</td>\n",
       "      <td>45.70</td>\n",
       "    </tr>\n",
       "  </tbody>\n",
       "</table>\n",
       "</div>"
      ],
      "text/plain": [
       "             PDQ          x           y   Latitude  Longitude\n",
       "count  244112.00  202724.00   202724.00  202724.00  202724.00\n",
       "mean       26.32  295794.17  5043227.57     -73.62      45.53\n",
       "std        14.03    6085.98     6070.39       0.08       0.05\n",
       "min         1.00  268109.61  5029291.47     -73.97      45.40\n",
       "25%        15.00  293900.98  5039087.60     -73.64      45.49\n",
       "50%        26.00  297338.25  5042878.08     -73.60      45.53\n",
       "75%        39.00  299665.90  5047188.21     -73.57      45.56\n",
       "max        55.00  306389.86  5062496.46     -73.48      45.70"
      ]
     },
     "execution_count": 4,
     "metadata": {},
     "output_type": "execute_result"
    }
   ],
   "source": [
    "# getting a quick statistical overview of numerical values in dataset\n",
    "# also rounding the decimals to the second decimal point\n",
    "round(df.describe(),2)"
   ]
  },
  {
   "cell_type": "markdown",
   "id": "871142c1-bee3-41bd-b83d-2b69a4923b1f",
   "metadata": {},
   "source": [
    "## What are the Top 3 more prevalent crimes or offenses in Montreal city?\n",
    "\n",
    "### Steps to get there\n",
    "\n",
    "#### There are a couple of ways to build the table\n",
    "\n",
    "+ Option 1: Create a table by calling on the Category column directly and using the .value_counts function\n",
    "### OR\n",
    "+ Option 2: Create a table grouped by the Category column and using the .count function \n",
    "\n",
    "\n",
    "### Next Steps\n",
    "\n",
    "1. Now that we have the counts, it would be helpful to know what the population of Montreal City is (Google: 1,780,000)\n",
    "2. Calculate each respective crime for every 100,000 MTL residents --- > (Crime Count/ 1,780,000 Million) * 100,000\n",
    "3. The results aims to provide better context around the crime (Ie. For every 100,000 residents there will be 4,061 Thefts From / To Motor Vehicle)\n",
    "4. Build a visual to display the results"
   ]
  },
  {
   "cell_type": "code",
   "execution_count": 5,
   "id": "c09862a2-5a0e-4d0c-8407-639c447bb1ca",
   "metadata": {},
   "outputs": [
    {
     "data": {
      "text/html": [
       "<div>\n",
       "<style scoped>\n",
       "    .dataframe tbody tr th:only-of-type {\n",
       "        vertical-align: middle;\n",
       "    }\n",
       "\n",
       "    .dataframe tbody tr th {\n",
       "        vertical-align: top;\n",
       "    }\n",
       "\n",
       "    .dataframe thead th {\n",
       "        text-align: right;\n",
       "    }\n",
       "</style>\n",
       "<table border=\"1\" class=\"dataframe\">\n",
       "  <thead>\n",
       "    <tr style=\"text-align: right;\">\n",
       "      <th></th>\n",
       "      <th>Crime</th>\n",
       "      <th>Crime Count</th>\n",
       "    </tr>\n",
       "  </thead>\n",
       "  <tbody>\n",
       "    <tr>\n",
       "      <th>0</th>\n",
       "      <td>Theft From / To Motor Vehicle</td>\n",
       "      <td>72291</td>\n",
       "    </tr>\n",
       "    <tr>\n",
       "      <th>1</th>\n",
       "      <td>Breaking &amp; Entering</td>\n",
       "      <td>61107</td>\n",
       "    </tr>\n",
       "    <tr>\n",
       "      <th>2</th>\n",
       "      <td>Mischief</td>\n",
       "      <td>53720</td>\n",
       "    </tr>\n",
       "    <tr>\n",
       "      <th>3</th>\n",
       "      <td>Theft of Motor Vehicle</td>\n",
       "      <td>43135</td>\n",
       "    </tr>\n",
       "    <tr>\n",
       "      <th>4</th>\n",
       "      <td>Robbery</td>\n",
       "      <td>13639</td>\n",
       "    </tr>\n",
       "    <tr>\n",
       "      <th>5</th>\n",
       "      <td>Murder Resulting in Death</td>\n",
       "      <td>225</td>\n",
       "    </tr>\n",
       "  </tbody>\n",
       "</table>\n",
       "</div>"
      ],
      "text/plain": [
       "                           Crime  Crime Count\n",
       "0  Theft From / To Motor Vehicle        72291\n",
       "1            Breaking & Entering        61107\n",
       "2                       Mischief        53720\n",
       "3         Theft of Motor Vehicle        43135\n",
       "4                        Robbery        13639\n",
       "5      Murder Resulting in Death          225"
      ]
     },
     "execution_count": 5,
     "metadata": {},
     "output_type": "execute_result"
    }
   ],
   "source": [
    "# building a table by calling on the Category column directly and applying value_counts function\n",
    "# renaming both columns\n",
    "dt = df['Category'].value_counts().reset_index().rename({\"index\" : \"Crime\", \"Category\" : \"Crime Count\"}, axis = 1)\n",
    "dt"
   ]
  },
  {
   "cell_type": "code",
   "execution_count": 6,
   "id": "475e7640-f5c3-4adf-a94a-6ef7a78bb9e5",
   "metadata": {},
   "outputs": [
    {
     "data": {
      "text/html": [
       "<div>\n",
       "<style scoped>\n",
       "    .dataframe tbody tr th:only-of-type {\n",
       "        vertical-align: middle;\n",
       "    }\n",
       "\n",
       "    .dataframe tbody tr th {\n",
       "        vertical-align: top;\n",
       "    }\n",
       "\n",
       "    .dataframe thead th {\n",
       "        text-align: right;\n",
       "    }\n",
       "</style>\n",
       "<table border=\"1\" class=\"dataframe\">\n",
       "  <thead>\n",
       "    <tr style=\"text-align: right;\">\n",
       "      <th></th>\n",
       "      <th>Crime</th>\n",
       "      <th>Crime Count</th>\n",
       "      <th>per/100000</th>\n",
       "      <th>rank</th>\n",
       "    </tr>\n",
       "  </thead>\n",
       "  <tbody>\n",
       "    <tr>\n",
       "      <th>0</th>\n",
       "      <td>Theft From / To Motor Vehicle</td>\n",
       "      <td>72291</td>\n",
       "      <td>4061</td>\n",
       "      <td>1</td>\n",
       "    </tr>\n",
       "    <tr>\n",
       "      <th>1</th>\n",
       "      <td>Breaking &amp; Entering</td>\n",
       "      <td>61107</td>\n",
       "      <td>3433</td>\n",
       "      <td>2</td>\n",
       "    </tr>\n",
       "    <tr>\n",
       "      <th>2</th>\n",
       "      <td>Mischief</td>\n",
       "      <td>53720</td>\n",
       "      <td>3018</td>\n",
       "      <td>3</td>\n",
       "    </tr>\n",
       "    <tr>\n",
       "      <th>3</th>\n",
       "      <td>Theft of Motor Vehicle</td>\n",
       "      <td>43135</td>\n",
       "      <td>2423</td>\n",
       "      <td>4</td>\n",
       "    </tr>\n",
       "    <tr>\n",
       "      <th>4</th>\n",
       "      <td>Robbery</td>\n",
       "      <td>13639</td>\n",
       "      <td>766</td>\n",
       "      <td>5</td>\n",
       "    </tr>\n",
       "    <tr>\n",
       "      <th>5</th>\n",
       "      <td>Murder Resulting in Death</td>\n",
       "      <td>225</td>\n",
       "      <td>13</td>\n",
       "      <td>6</td>\n",
       "    </tr>\n",
       "  </tbody>\n",
       "</table>\n",
       "</div>"
      ],
      "text/plain": [
       "                           Crime  Crime Count  per/100000  rank\n",
       "0  Theft From / To Motor Vehicle        72291        4061     1\n",
       "1            Breaking & Entering        61107        3433     2\n",
       "2                       Mischief        53720        3018     3\n",
       "3         Theft of Motor Vehicle        43135        2423     4\n",
       "4                        Robbery        13639         766     5\n",
       "5      Murder Resulting in Death          225          13     6"
      ]
     },
     "execution_count": 6,
     "metadata": {},
     "output_type": "execute_result"
    }
   ],
   "source": [
    "# creating a new column that will divide the crime count by the total population * 100000 to calculate the count by 100,000 residents\n",
    "dt['per/100000'] = round((dt['Crime Count'] / 1780000) * 100000, 0).astype(int)\n",
    "\n",
    "# ranking the crimes by the count descending the highest count at the top\n",
    "dt['rank'] = dt['Crime Count'].rank(method = 'dense', ascending = False).astype(int)\n",
    "\n",
    "# looking at the table to ensure the data adds up\n",
    "dt"
   ]
  },
  {
   "cell_type": "code",
   "execution_count": 7,
   "id": "0297b55e-8c9b-4a8d-a035-eda8044610e5",
   "metadata": {},
   "outputs": [
    {
     "data": {
      "image/png": "[encoded data removed]",
      "text/plain": [
       "<Figure size 432x288 with 1 Axes>"
      ]
     },
     "metadata": {
      "needs_background": "light"
     },
     "output_type": "display_data"
    }
   ],
   "source": [
    "# creating a barplot using seaborn and passing the Crime and count per/100000 residents as the data source\n",
    "sns.barplot(x = 'Crime', y = 'per/100000', data = dt)\n",
    "\n",
    "# adding a title to the chart\n",
    "plt.title('Distribution of Crimes per 100,000 Montreal Residents')\n",
    "\n",
    "# rotating the axis labels to 90 degrees\n",
    "plt.xticks(rotation = 90)\n",
    "\n",
    "# displaying chart created\n",
    "plt.show();"
   ]
  },
  {
   "cell_type": "code",
   "execution_count": 8,
   "id": "ad5792af-ae82-4ed8-9b67-db6626685632",
   "metadata": {},
   "outputs": [
    {
     "data": {
      "text/html": [
       "<div>\n",
       "<style scoped>\n",
       "    .dataframe tbody tr th:only-of-type {\n",
       "        vertical-align: middle;\n",
       "    }\n",
       "\n",
       "    .dataframe tbody tr th {\n",
       "        vertical-align: top;\n",
       "    }\n",
       "\n",
       "    .dataframe thead th {\n",
       "        text-align: right;\n",
       "    }\n",
       "</style>\n",
       "<table border=\"1\" class=\"dataframe\">\n",
       "  <thead>\n",
       "    <tr style=\"text-align: right;\">\n",
       "      <th></th>\n",
       "      <th>Crime</th>\n",
       "      <th>Crime Count</th>\n",
       "      <th>per/100000</th>\n",
       "      <th>rank</th>\n",
       "    </tr>\n",
       "  </thead>\n",
       "  <tbody>\n",
       "    <tr>\n",
       "      <th>0</th>\n",
       "      <td>Theft From / To Motor Vehicle</td>\n",
       "      <td>72291</td>\n",
       "      <td>4061</td>\n",
       "      <td>1</td>\n",
       "    </tr>\n",
       "    <tr>\n",
       "      <th>1</th>\n",
       "      <td>Breaking &amp; Entering</td>\n",
       "      <td>61107</td>\n",
       "      <td>3433</td>\n",
       "      <td>2</td>\n",
       "    </tr>\n",
       "    <tr>\n",
       "      <th>2</th>\n",
       "      <td>Mischief</td>\n",
       "      <td>53720</td>\n",
       "      <td>3018</td>\n",
       "      <td>3</td>\n",
       "    </tr>\n",
       "  </tbody>\n",
       "</table>\n",
       "</div>"
      ],
      "text/plain": [
       "                           Crime  Crime Count  per/100000  rank\n",
       "0  Theft From / To Motor Vehicle        72291        4061     1\n",
       "1            Breaking & Entering        61107        3433     2\n",
       "2                       Mischief        53720        3018     3"
      ]
     },
     "execution_count": 8,
     "metadata": {},
     "output_type": "execute_result"
    }
   ],
   "source": [
    "# filtering the table to see which are the three most prevalent crimes \n",
    "# since we used a rank function, specifically for this scenario all that needs to be done is filter by rank where it is <= 3\n",
    "top_three_crimes =  dt[dt['rank'] <= 3]\n",
    "\n",
    "top_three_crimes"
   ]
  },
  {
   "cell_type": "code",
   "execution_count": 9,
   "id": "0e4adfe6-29b3-45eb-aa83-d76ba383c9d9",
   "metadata": {},
   "outputs": [
    {
     "name": "stdout",
     "output_type": "stream",
     "text": [
      "The top three most prevalent crimes in Montreal make up for 10512 incidents for every 100,000 residents in Montreal City.\n"
     ]
    }
   ],
   "source": [
    "# calculating the total sum of crimes per 100,000 MTL residents\n",
    "total_crime_count = top_three_crimes['per/100000'].sum()\n",
    "\n",
    "crimes = top_three_crimes\n",
    "\n",
    "# printing out statement\n",
    "print(f\"The top three most prevalent crimes in Montreal make up for {total_crime_count} incidents for every 100,000 residents in Montreal City.\")"
   ]
  },
  {
   "cell_type": "markdown",
   "id": "891d3307-dca3-4dba-a735-a8e30b0bbd6d",
   "metadata": {},
   "source": [
    "### Key Takeways\n",
    "\n",
    "#### Objective: 3 Most Prevalent Crimes\n",
    "\n",
    "1. Theft From / to Motor Vehicle\n",
    "2. Breaking & Entering\n",
    "3. Mischief\n",
    "\n",
    "+ Making up for 10,512 Incidents for every 100,000 residents in the City\n",
    "\n",
    "### Question 2: What part of the day did most incidents occur?\n",
    "\n",
    "#### Next Steps\n",
    "\n",
    "+ Build a table grouped by the time of day, counting the total number of incidents per time of day\n",
    "+ Create a visual to display findings"
   ]
  },
  {
   "cell_type": "code",
   "execution_count": 10,
   "id": "36a00b4c-f2b3-4116-bbc4-b611644075c6",
   "metadata": {},
   "outputs": [
    {
     "data": {
      "text/html": [
       "<div>\n",
       "<style scoped>\n",
       "    .dataframe tbody tr th:only-of-type {\n",
       "        vertical-align: middle;\n",
       "    }\n",
       "\n",
       "    .dataframe tbody tr th {\n",
       "        vertical-align: top;\n",
       "    }\n",
       "\n",
       "    .dataframe thead th {\n",
       "        text-align: right;\n",
       "    }\n",
       "</style>\n",
       "<table border=\"1\" class=\"dataframe\">\n",
       "  <thead>\n",
       "    <tr style=\"text-align: right;\">\n",
       "      <th></th>\n",
       "      <th>Time of Day</th>\n",
       "      <th>Incident Count</th>\n",
       "    </tr>\n",
       "  </thead>\n",
       "  <tbody>\n",
       "    <tr>\n",
       "      <th>0</th>\n",
       "      <td>jour</td>\n",
       "      <td>124382</td>\n",
       "    </tr>\n",
       "    <tr>\n",
       "      <th>1</th>\n",
       "      <td>soir</td>\n",
       "      <td>81612</td>\n",
       "    </tr>\n",
       "    <tr>\n",
       "      <th>2</th>\n",
       "      <td>nuit</td>\n",
       "      <td>38123</td>\n",
       "    </tr>\n",
       "  </tbody>\n",
       "</table>\n",
       "</div>"
      ],
      "text/plain": [
       "  Time of Day  Incident Count\n",
       "0        jour          124382\n",
       "1        soir           81612\n",
       "2        nuit           38123"
      ]
     },
     "execution_count": 10,
     "metadata": {},
     "output_type": "execute_result"
    }
   ],
   "source": [
    "time_of_day = df['Time of Day'].value_counts().reset_index().rename({\"index\" : \"Time of Day\" , \"Time of Day\" : \"Incident Count\"}, axis = 1)\n",
    "time_of_day"
   ]
  },
  {
   "cell_type": "markdown",
   "id": "fe876f03-c48f-4784-8b8e-061b9edd0d42",
   "metadata": {},
   "source": [
    "### Making a Change\n",
    "\n",
    "+ Add a new column called Time of Day but in English for clarity\n"
   ]
  },
  {
   "cell_type": "code",
   "execution_count": 13,
   "id": "c73541f1-e59b-4d7a-bc23-324172b06f42",
   "metadata": {},
   "outputs": [
    {
     "data": {
      "text/html": [
       "<div>\n",
       "<style scoped>\n",
       "    .dataframe tbody tr th:only-of-type {\n",
       "        vertical-align: middle;\n",
       "    }\n",
       "\n",
       "    .dataframe tbody tr th {\n",
       "        vertical-align: top;\n",
       "    }\n",
       "\n",
       "    .dataframe thead th {\n",
       "        text-align: right;\n",
       "    }\n",
       "</style>\n",
       "<table border=\"1\" class=\"dataframe\">\n",
       "  <thead>\n",
       "    <tr style=\"text-align: right;\">\n",
       "      <th></th>\n",
       "      <th>Time of Day</th>\n",
       "      <th>Incident Count</th>\n",
       "      <th>Time of Day (ENG)</th>\n",
       "    </tr>\n",
       "  </thead>\n",
       "  <tbody>\n",
       "    <tr>\n",
       "      <th>0</th>\n",
       "      <td>jour</td>\n",
       "      <td>124382</td>\n",
       "      <td>day</td>\n",
       "    </tr>\n",
       "    <tr>\n",
       "      <th>1</th>\n",
       "      <td>soir</td>\n",
       "      <td>81612</td>\n",
       "      <td>evening</td>\n",
       "    </tr>\n",
       "    <tr>\n",
       "      <th>2</th>\n",
       "      <td>nuit</td>\n",
       "      <td>38123</td>\n",
       "      <td>night</td>\n",
       "    </tr>\n",
       "  </tbody>\n",
       "</table>\n",
       "</div>"
      ],
      "text/plain": [
       "  Time of Day  Incident Count Time of Day (ENG)\n",
       "0        jour          124382               day\n",
       "1        soir           81612           evening\n",
       "2        nuit           38123             night"
      ]
     },
     "execution_count": 13,
     "metadata": {},
     "output_type": "execute_result"
    }
   ],
   "source": [
    "day_dict = {\"jour\" : \"day\", \"soir\" : \"evening\", \"nuit\" : \"night\"}\n",
    "\n",
    "time_of_day['Time of Day (ENG)'] = time_of_day['Time of Day'].replace(day_dict)\n",
    "\n",
    "time_of_day"
   ]
  },
  {
   "cell_type": "code",
   "execution_count": 24,
   "id": "8d738070-c1bf-4aa0-9fd5-2be3d69255f1",
   "metadata": {},
   "outputs": [
    {
     "data": {
      "application/vnd.plotly.v1+json": {
       "config": {
        "plotlyServerURL": "https://plot.ly"
       },
       "data": [
        {
         "domain": {
          "x": [
           0,
           1
          ],
          "y": [
           0,
           1
          ]
         },
         "hovertemplate": "Time of Day (ENG)=%{label}<br>Incident Count=%{value}<extra></extra>",
         "labels": [
          "day",
          "evening",
          "night"
         ],
         "legendgroup": "",
         "name": "",
         "showlegend": true,
         "type": "pie",
         "values": [
          124382,
          81612,
          38123
         ]
        }
       ],
       "layout": {
        "autosize": true,
        "legend": {
         "tracegroupgap": 0
        },
        "template": {
         "data": {
          "bar": [
           {
            "error_x": {
             "color": "#2a3f5f"
            },
            "error_y": {
             "color": "#2a3f5f"
            },
            "marker": {
             "line": {
              "color": "#E5ECF6",
              "width": 0.5
             },
             "pattern": {
              "fillmode": "overlay",
              "size": 10,
              "solidity": 0.2
             }
            },
            "type": "bar"
           }
          ],
          "barpolar": [
           {
            "marker": {
             "line": {
              "color": "#E5ECF6",
              "width": 0.5
             },
             "pattern": {
              "fillmode": "overlay",
              "size": 10,
              "solidity": 0.2
             }
            },
            "type": "barpolar"
           }
          ],
          "carpet": [
           {
            "aaxis": {
             "endlinecolor": "#2a3f5f",
             "gridcolor": "white",
             "linecolor": "white",
             "minorgridcolor": "white",
             "startlinecolor": "#2a3f5f"
            },
            "baxis": {
             "endlinecolor": "#2a3f5f",
             "gridcolor": "white",
             "linecolor": "white",
             "minorgridcolor": "white",
             "startlinecolor": "#2a3f5f"
            },
            "type": "carpet"
           }
          ],
          "choropleth": [
           {
            "colorbar": {
             "outlinewidth": 0,
             "ticks": ""
            },
            "type": "choropleth"
           }
          ],
          "contour": [
           {
            "colorbar": {
             "outlinewidth": 0,
             "ticks": ""
            },
            "colorscale": [
             [
              0,
              "#0d0887"
             ],
             [
              0.1111111111111111,
              "#46039f"
             ],
             [
              0.2222222222222222,
              "#7201a8"
             ],
             [
              0.3333333333333333,
              "#9c179e"
             ],
             [
              0.4444444444444444,
              "#bd3786"
             ],
             [
              0.5555555555555556,
              "#d8576b"
             ],
             [
              0.6666666666666666,
              "#ed7953"
             ],
             [
              0.7777777777777778,
              "#fb9f3a"
             ],
             [
              0.8888888888888888,
              "#fdca26"
             ],
             [
              1,
              "#f0f921"
             ]
            ],
            "type": "contour"
           }
          ],
          "contourcarpet": [
           {
            "colorbar": {
             "outlinewidth": 0,
             "ticks": ""
            },
            "type": "contourcarpet"
           }
          ],
          "heatmap": [
           {
            "colorbar": {
             "outlinewidth": 0,
             "ticks": ""
            },
            "colorscale": [
             [
              0,
              "#0d0887"
             ],
             [
              0.1111111111111111,
              "#46039f"
             ],
             [
              0.2222222222222222,
              "#7201a8"
             ],
             [
              0.3333333333333333,
              "#9c179e"
             ],
             [
              0.4444444444444444,
              "#bd3786"
             ],
             [
              0.5555555555555556,
              "#d8576b"
             ],
             [
              0.6666666666666666,
              "#ed7953"
             ],
             [
              0.7777777777777778,
              "#fb9f3a"
             ],
             [
              0.8888888888888888,
              "#fdca26"
             ],
             [
              1,
              "#f0f921"
             ]
            ],
            "type": "heatmap"
           }
          ],
          "heatmapgl": [
           {
            "colorbar": {
             "outlinewidth": 0,
             "ticks": ""
            },
            "colorscale": [
             [
              0,
              "#0d0887"
             ],
             [
              0.1111111111111111,
              "#46039f"
             ],
             [
              0.2222222222222222,
              "#7201a8"
             ],
             [
              0.3333333333333333,
              "#9c179e"
             ],
             [
              0.4444444444444444,
              "#bd3786"
             ],
             [
              0.5555555555555556,
              "#d8576b"
             ],
             [
              0.6666666666666666,
              "#ed7953"
             ],
             [
              0.7777777777777778,
              "#fb9f3a"
             ],
             [
              0.8888888888888888,
              "#fdca26"
             ],
             [
              1,
              "#f0f921"
             ]
            ],
            "type": "heatmapgl"
           }
          ],
          "histogram": [
           {
            "marker": {
             "pattern": {
              "fillmode": "overlay",
              "size": 10,
              "solidity": 0.2
             }
            },
            "type": "histogram"
           }
          ],
          "histogram2d": [
           {
            "colorbar": {
             "outlinewidth": 0,
             "ticks": ""
            },
            "colorscale": [
             [
              0,
              "#0d0887"
             ],
             [
              0.1111111111111111,
              "#46039f"
             ],
             [
              0.2222222222222222,
              "#7201a8"
             ],
             [
              0.3333333333333333,
              "#9c179e"
             ],
             [
              0.4444444444444444,
              "#bd3786"
             ],
             [
              0.5555555555555556,
              "#d8576b"
             ],
             [
              0.6666666666666666,
              "#ed7953"
             ],
             [
              0.7777777777777778,
              "#fb9f3a"
             ],
             [
              0.8888888888888888,
              "#fdca26"
             ],
             [
              1,
              "#f0f921"
             ]
            ],
            "type": "histogram2d"
           }
          ],
          "histogram2dcontour": [
           {
            "colorbar": {
             "outlinewidth": 0,
             "ticks": ""
            },
            "colorscale": [
             [
              0,
              "#0d0887"
             ],
             [
              0.1111111111111111,
              "#46039f"
             ],
             [
              0.2222222222222222,
              "#7201a8"
             ],
             [
              0.3333333333333333,
              "#9c179e"
             ],
             [
              0.4444444444444444,
              "#bd3786"
             ],
             [
              0.5555555555555556,
              "#d8576b"
             ],
             [
              0.6666666666666666,
              "#ed7953"
             ],
             [
              0.7777777777777778,
              "#fb9f3a"
             ],
             [
              0.8888888888888888,
              "#fdca26"
             ],
             [
              1,
              "#f0f921"
             ]
            ],
            "type": "histogram2dcontour"
           }
          ],
          "mesh3d": [
           {
            "colorbar": {
             "outlinewidth": 0,
             "ticks": ""
            },
            "type": "mesh3d"
           }
          ],
          "parcoords": [
           {
            "line": {
             "colorbar": {
              "outlinewidth": 0,
              "ticks": ""
             }
            },
            "type": "parcoords"
           }
          ],
          "pie": [
           {
            "automargin": true,
            "type": "pie"
           }
          ],
          "scatter": [
           {
            "fillpattern": {
             "fillmode": "overlay",
             "size": 10,
             "solidity": 0.2
            },
            "type": "scatter"
           }
          ],
          "scatter3d": [
           {
            "line": {
             "colorbar": {
              "outlinewidth": 0,
              "ticks": ""
             }
            },
            "marker": {
             "colorbar": {
              "outlinewidth": 0,
              "ticks": ""
             }
            },
            "type": "scatter3d"
           }
          ],
          "scattercarpet": [
           {
            "marker": {
             "colorbar": {
              "outlinewidth": 0,
              "ticks": ""
             }
            },
            "type": "scattercarpet"
           }
          ],
          "scattergeo": [
           {
            "marker": {
             "colorbar": {
              "outlinewidth": 0,
              "ticks": ""
             }
            },
            "type": "scattergeo"
           }
          ],
          "scattergl": [
           {
            "marker": {
             "colorbar": {
              "outlinewidth": 0,
              "ticks": ""
             }
            },
            "type": "scattergl"
           }
          ],
          "scattermapbox": [
           {
            "marker": {
             "colorbar": {
              "outlinewidth": 0,
              "ticks": ""
             }
            },
            "type": "scattermapbox"
           }
          ],
          "scatterpolar": [
           {
            "marker": {
             "colorbar": {
              "outlinewidth": 0,
              "ticks": ""
             }
            },
            "type": "scatterpolar"
           }
          ],
          "scatterpolargl": [
           {
            "marker": {
             "colorbar": {
              "outlinewidth": 0,
              "ticks": ""
             }
            },
            "type": "scatterpolargl"
           }
          ],
          "scatterternary": [
           {
            "marker": {
             "colorbar": {
              "outlinewidth": 0,
              "ticks": ""
             }
            },
            "type": "scatterternary"
           }
          ],
          "surface": [
           {
            "colorbar": {
             "outlinewidth": 0,
             "ticks": ""
            },
            "colorscale": [
             [
              0,
              "#0d0887"
             ],
             [
              0.1111111111111111,
              "#46039f"
             ],
             [
              0.2222222222222222,
              "#7201a8"
             ],
             [
              0.3333333333333333,
              "#9c179e"
             ],
             [
              0.4444444444444444,
              "#bd3786"
             ],
             [
              0.5555555555555556,
              "#d8576b"
             ],
             [
              0.6666666666666666,
              "#ed7953"
             ],
             [
              0.7777777777777778,
              "#fb9f3a"
             ],
             [
              0.8888888888888888,
              "#fdca26"
             ],
             [
              1,
              "#f0f921"
             ]
            ],
            "type": "surface"
           }
          ],
          "table": [
           {
            "cells": {
             "fill": {
              "color": "#EBF0F8"
             },
             "line": {
              "color": "white"
             }
            },
            "header": {
             "fill": {
              "color": "#C8D4E3"
             },
             "line": {
              "color": "white"
             }
            },
            "type": "table"
           }
          ]
         },
         "layout": {
          "annotationdefaults": {
           "arrowcolor": "#2a3f5f",
           "arrowhead": 0,
           "arrowwidth": 1
          },
          "autotypenumbers": "strict",
          "coloraxis": {
           "colorbar": {
            "outlinewidth": 0,
            "ticks": ""
           }
          },
          "colorscale": {
           "diverging": [
            [
             0,
             "#8e0152"
            ],
            [
             0.1,
             "#c51b7d"
            ],
            [
             0.2,
             "#de77ae"
            ],
            [
             0.3,
             "#f1b6da"
            ],
            [
             0.4,
             "#fde0ef"
            ],
            [
             0.5,
             "#f7f7f7"
            ],
            [
             0.6,
             "#e6f5d0"
            ],
            [
             0.7,
             "#b8e186"
            ],
            [
             0.8,
             "#7fbc41"
            ],
            [
             0.9,
             "#4d9221"
            ],
            [
             1,
             "#276419"
            ]
           ],
           "sequential": [
            [
             0,
             "#0d0887"
            ],
            [
             0.1111111111111111,
             "#46039f"
            ],
            [
             0.2222222222222222,
             "#7201a8"
            ],
            [
             0.3333333333333333,
             "#9c179e"
            ],
            [
             0.4444444444444444,
             "#bd3786"
            ],
            [
             0.5555555555555556,
             "#d8576b"
            ],
            [
             0.6666666666666666,
             "#ed7953"
            ],
            [
             0.7777777777777778,
             "#fb9f3a"
            ],
            [
             0.8888888888888888,
             "#fdca26"
            ],
            [
             1,
             "#f0f921"
            ]
           ],
           "sequentialminus": [
            [
             0,
             "#0d0887"
            ],
            [
             0.1111111111111111,
             "#46039f"
            ],
            [
             0.2222222222222222,
             "#7201a8"
            ],
            [
             0.3333333333333333,
             "#9c179e"
            ],
            [
             0.4444444444444444,
             "#bd3786"
            ],
            [
             0.5555555555555556,
             "#d8576b"
            ],
            [
             0.6666666666666666,
             "#ed7953"
            ],
            [
             0.7777777777777778,
             "#fb9f3a"
            ],
            [
             0.8888888888888888,
             "#fdca26"
            ],
            [
             1,
             "#f0f921"
            ]
           ]
          },
          "colorway": [
           "#636efa",
           "#EF553B",
           "#00cc96",
           "#ab63fa",
           "#FFA15A",
           "#19d3f3",
           "#FF6692",
           "#B6E880",
           "#FF97FF",
           "#FECB52"
          ],
          "font": {
           "color": "#2a3f5f"
          },
          "geo": {
           "bgcolor": "white",
           "lakecolor": "white",
           "landcolor": "#E5ECF6",
           "showlakes": true,
           "showland": true,
           "subunitcolor": "white"
          },
          "hoverlabel": {
           "align": "left"
          },
          "hovermode": "closest",
          "mapbox": {
           "style": "light"
          },
          "paper_bgcolor": "white",
          "plot_bgcolor": "#E5ECF6",
          "polar": {
           "angularaxis": {
            "gridcolor": "white",
            "linecolor": "white",
            "ticks": ""
           },
           "bgcolor": "#E5ECF6",
           "radialaxis": {
            "gridcolor": "white",
            "linecolor": "white",
            "ticks": ""
           }
          },
          "scene": {
           "xaxis": {
            "backgroundcolor": "#E5ECF6",
            "gridcolor": "white",
            "gridwidth": 2,
            "linecolor": "white",
            "showbackground": true,
            "ticks": "",
            "zerolinecolor": "white"
           },
           "yaxis": {
            "backgroundcolor": "#E5ECF6",
            "gridcolor": "white",
            "gridwidth": 2,
            "linecolor": "white",
            "showbackground": true,
            "ticks": "",
            "zerolinecolor": "white"
           },
           "zaxis": {
            "backgroundcolor": "#E5ECF6",
            "gridcolor": "white",
            "gridwidth": 2,
            "linecolor": "white",
            "showbackground": true,
            "ticks": "",
            "zerolinecolor": "white"
           }
          },
          "shapedefaults": {
           "line": {
            "color": "#2a3f5f"
           }
          },
          "ternary": {
           "aaxis": {
            "gridcolor": "white",
            "linecolor": "white",
            "ticks": ""
           },
           "baxis": {
            "gridcolor": "white",
            "linecolor": "white",
            "ticks": ""
           },
           "bgcolor": "#E5ECF6",
           "caxis": {
            "gridcolor": "white",
            "linecolor": "white",
            "ticks": ""
           }
          },
          "title": {
           "x": 0.05
          },
          "xaxis": {
           "automargin": true,
           "gridcolor": "white",
           "linecolor": "white",
           "ticks": "",
           "title": {
            "standoff": 15
           },
           "zerolinecolor": "white",
           "zerolinewidth": 2
          },
          "yaxis": {
           "automargin": true,
           "gridcolor": "white",
           "linecolor": "white",
           "ticks": "",
           "title": {
            "standoff": 15
           },
           "zerolinecolor": "white",
           "zerolinewidth": 2
          }
         }
        },
        "title": {
         "text": "Distribution of Crimes by Time of Day - Day/Evening/Night"
        }
       }
      },
      "image/png": "[encoded data removed]",
      "text/html": [
       "<div>                            <div id=\"30a43f40-9f23-441b-8b88-a3aad6fb29b0\" class=\"plotly-graph-div\" style=\"height:525px; width:100%;\"></div>            <script type=\"text/javascript\">                require([\"plotly\"], function(Plotly) {                    window.PLOTLYENV=window.PLOTLYENV || {};                                    if (document.getElementById(\"30a43f40-9f23-441b-8b88-a3aad6fb29b0\")) {                    Plotly.newPlot(                        \"30a43f40-9f23-441b-8b88-a3aad6fb29b0\",                        [{\"domain\":{\"x\":[0.0,1.0],\"y\":[0.0,1.0]},\"hovertemplate\":\"Time of Day (ENG)=%{label}<br>Incident Count=%{value}<extra></extra>\",\"labels\":[\"day\",\"evening\",\"night\"],\"legendgroup\":\"\",\"name\":\"\",\"showlegend\":true,\"values\":[124382,81612,38123],\"type\":\"pie\"}],                        {\"template\":{\"data\":{\"histogram2dcontour\":[{\"type\":\"histogram2dcontour\",\"colorbar\":{\"outlinewidth\":0,\"ticks\":\"\"},\"colorscale\":[[0.0,\"#0d0887\"],[0.1111111111111111,\"#46039f\"],[0.2222222222222222,\"#7201a8\"],[0.3333333333333333,\"#9c179e\"],[0.4444444444444444,\"#bd3786\"],[0.5555555555555556,\"#d8576b\"],[0.6666666666666666,\"#ed7953\"],[0.7777777777777778,\"#fb9f3a\"],[0.8888888888888888,\"#fdca26\"],[1.0,\"#f0f921\"]]}],\"choropleth\":[{\"type\":\"choropleth\",\"colorbar\":{\"outlinewidth\":0,\"ticks\":\"\"}}],\"histogram2d\":[{\"type\":\"histogram2d\",\"colorbar\":{\"outlinewidth\":0,\"ticks\":\"\"},\"colorscale\":[[0.0,\"#0d0887\"],[0.1111111111111111,\"#46039f\"],[0.2222222222222222,\"#7201a8\"],[0.3333333333333333,\"#9c179e\"],[0.4444444444444444,\"#bd3786\"],[0.5555555555555556,\"#d8576b\"],[0.6666666666666666,\"#ed7953\"],[0.7777777777777778,\"#fb9f3a\"],[0.8888888888888888,\"#fdca26\"],[1.0,\"#f0f921\"]]}],\"heatmap\":[{\"type\":\"heatmap\",\"colorbar\":{\"outlinewidth\":0,\"ticks\":\"\"},\"colorscale\":[[0.0,\"#0d0887\"],[0.1111111111111111,\"#46039f\"],[0.2222222222222222,\"#7201a8\"],[0.3333333333333333,\"#9c179e\"],[0.4444444444444444,\"#bd3786\"],[0.5555555555555556,\"#d8576b\"],[0.6666666666666666,\"#ed7953\"],[0.7777777777777778,\"#fb9f3a\"],[0.8888888888888888,\"#fdca26\"],[1.0,\"#f0f921\"]]}],\"heatmapgl\":[{\"type\":\"heatmapgl\",\"colorbar\":{\"outlinewidth\":0,\"ticks\":\"\"},\"colorscale\":[[0.0,\"#0d0887\"],[0.1111111111111111,\"#46039f\"],[0.2222222222222222,\"#7201a8\"],[0.3333333333333333,\"#9c179e\"],[0.4444444444444444,\"#bd3786\"],[0.5555555555555556,\"#d8576b\"],[0.6666666666666666,\"#ed7953\"],[0.7777777777777778,\"#fb9f3a\"],[0.8888888888888888,\"#fdca26\"],[1.0,\"#f0f921\"]]}],\"contourcarpet\":[{\"type\":\"contourcarpet\",\"colorbar\":{\"outlinewidth\":0,\"ticks\":\"\"}}],\"contour\":[{\"type\":\"contour\",\"colorbar\":{\"outlinewidth\":0,\"ticks\":\"\"},\"colorscale\":[[0.0,\"#0d0887\"],[0.1111111111111111,\"#46039f\"],[0.2222222222222222,\"#7201a8\"],[0.3333333333333333,\"#9c179e\"],[0.4444444444444444,\"#bd3786\"],[0.5555555555555556,\"#d8576b\"],[0.6666666666666666,\"#ed7953\"],[0.7777777777777778,\"#fb9f3a\"],[0.8888888888888888,\"#fdca26\"],[1.0,\"#f0f921\"]]}],\"surface\":[{\"type\":\"surface\",\"colorbar\":{\"outlinewidth\":0,\"ticks\":\"\"},\"colorscale\":[[0.0,\"#0d0887\"],[0.1111111111111111,\"#46039f\"],[0.2222222222222222,\"#7201a8\"],[0.3333333333333333,\"#9c179e\"],[0.4444444444444444,\"#bd3786\"],[0.5555555555555556,\"#d8576b\"],[0.6666666666666666,\"#ed7953\"],[0.7777777777777778,\"#fb9f3a\"],[0.8888888888888888,\"#fdca26\"],[1.0,\"#f0f921\"]]}],\"mesh3d\":[{\"type\":\"mesh3d\",\"colorbar\":{\"outlinewidth\":0,\"ticks\":\"\"}}],\"scatter\":[{\"fillpattern\":{\"fillmode\":\"overlay\",\"size\":10,\"solidity\":0.2},\"type\":\"scatter\"}],\"parcoords\":[{\"type\":\"parcoords\",\"line\":{\"colorbar\":{\"outlinewidth\":0,\"ticks\":\"\"}}}],\"scatterpolargl\":[{\"type\":\"scatterpolargl\",\"marker\":{\"colorbar\":{\"outlinewidth\":0,\"ticks\":\"\"}}}],\"bar\":[{\"error_x\":{\"color\":\"#2a3f5f\"},\"error_y\":{\"color\":\"#2a3f5f\"},\"marker\":{\"line\":{\"color\":\"#E5ECF6\",\"width\":0.5},\"pattern\":{\"fillmode\":\"overlay\",\"size\":10,\"solidity\":0.2}},\"type\":\"bar\"}],\"scattergeo\":[{\"type\":\"scattergeo\",\"marker\":{\"colorbar\":{\"outlinewidth\":0,\"ticks\":\"\"}}}],\"scatterpolar\":[{\"type\":\"scatterpolar\",\"marker\":{\"colorbar\":{\"outlinewidth\":0,\"ticks\":\"\"}}}],\"histogram\":[{\"marker\":{\"pattern\":{\"fillmode\":\"overlay\",\"size\":10,\"solidity\":0.2}},\"type\":\"histogram\"}],\"scattergl\":[{\"type\":\"scattergl\",\"marker\":{\"colorbar\":{\"outlinewidth\":0,\"ticks\":\"\"}}}],\"scatter3d\":[{\"type\":\"scatter3d\",\"line\":{\"colorbar\":{\"outlinewidth\":0,\"ticks\":\"\"}},\"marker\":{\"colorbar\":{\"outlinewidth\":0,\"ticks\":\"\"}}}],\"scattermapbox\":[{\"type\":\"scattermapbox\",\"marker\":{\"colorbar\":{\"outlinewidth\":0,\"ticks\":\"\"}}}],\"scatterternary\":[{\"type\":\"scatterternary\",\"marker\":{\"colorbar\":{\"outlinewidth\":0,\"ticks\":\"\"}}}],\"scattercarpet\":[{\"type\":\"scattercarpet\",\"marker\":{\"colorbar\":{\"outlinewidth\":0,\"ticks\":\"\"}}}],\"carpet\":[{\"aaxis\":{\"endlinecolor\":\"#2a3f5f\",\"gridcolor\":\"white\",\"linecolor\":\"white\",\"minorgridcolor\":\"white\",\"startlinecolor\":\"#2a3f5f\"},\"baxis\":{\"endlinecolor\":\"#2a3f5f\",\"gridcolor\":\"white\",\"linecolor\":\"white\",\"minorgridcolor\":\"white\",\"startlinecolor\":\"#2a3f5f\"},\"type\":\"carpet\"}],\"table\":[{\"cells\":{\"fill\":{\"color\":\"#EBF0F8\"},\"line\":{\"color\":\"white\"}},\"header\":{\"fill\":{\"color\":\"#C8D4E3\"},\"line\":{\"color\":\"white\"}},\"type\":\"table\"}],\"barpolar\":[{\"marker\":{\"line\":{\"color\":\"#E5ECF6\",\"width\":0.5},\"pattern\":{\"fillmode\":\"overlay\",\"size\":10,\"solidity\":0.2}},\"type\":\"barpolar\"}],\"pie\":[{\"automargin\":true,\"type\":\"pie\"}]},\"layout\":{\"autotypenumbers\":\"strict\",\"colorway\":[\"#636efa\",\"#EF553B\",\"#00cc96\",\"#ab63fa\",\"#FFA15A\",\"#19d3f3\",\"#FF6692\",\"#B6E880\",\"#FF97FF\",\"#FECB52\"],\"font\":{\"color\":\"#2a3f5f\"},\"hovermode\":\"closest\",\"hoverlabel\":{\"align\":\"left\"},\"paper_bgcolor\":\"white\",\"plot_bgcolor\":\"#E5ECF6\",\"polar\":{\"bgcolor\":\"#E5ECF6\",\"angularaxis\":{\"gridcolor\":\"white\",\"linecolor\":\"white\",\"ticks\":\"\"},\"radialaxis\":{\"gridcolor\":\"white\",\"linecolor\":\"white\",\"ticks\":\"\"}},\"ternary\":{\"bgcolor\":\"#E5ECF6\",\"aaxis\":{\"gridcolor\":\"white\",\"linecolor\":\"white\",\"ticks\":\"\"},\"baxis\":{\"gridcolor\":\"white\",\"linecolor\":\"white\",\"ticks\":\"\"},\"caxis\":{\"gridcolor\":\"white\",\"linecolor\":\"white\",\"ticks\":\"\"}},\"coloraxis\":{\"colorbar\":{\"outlinewidth\":0,\"ticks\":\"\"}},\"colorscale\":{\"sequential\":[[0.0,\"#0d0887\"],[0.1111111111111111,\"#46039f\"],[0.2222222222222222,\"#7201a8\"],[0.3333333333333333,\"#9c179e\"],[0.4444444444444444,\"#bd3786\"],[0.5555555555555556,\"#d8576b\"],[0.6666666666666666,\"#ed7953\"],[0.7777777777777778,\"#fb9f3a\"],[0.8888888888888888,\"#fdca26\"],[1.0,\"#f0f921\"]],\"sequentialminus\":[[0.0,\"#0d0887\"],[0.1111111111111111,\"#46039f\"],[0.2222222222222222,\"#7201a8\"],[0.3333333333333333,\"#9c179e\"],[0.4444444444444444,\"#bd3786\"],[0.5555555555555556,\"#d8576b\"],[0.6666666666666666,\"#ed7953\"],[0.7777777777777778,\"#fb9f3a\"],[0.8888888888888888,\"#fdca26\"],[1.0,\"#f0f921\"]],\"diverging\":[[0,\"#8e0152\"],[0.1,\"#c51b7d\"],[0.2,\"#de77ae\"],[0.3,\"#f1b6da\"],[0.4,\"#fde0ef\"],[0.5,\"#f7f7f7\"],[0.6,\"#e6f5d0\"],[0.7,\"#b8e186\"],[0.8,\"#7fbc41\"],[0.9,\"#4d9221\"],[1,\"#276419\"]]},\"xaxis\":{\"gridcolor\":\"white\",\"linecolor\":\"white\",\"ticks\":\"\",\"title\":{\"standoff\":15},\"zerolinecolor\":\"white\",\"automargin\":true,\"zerolinewidth\":2},\"yaxis\":{\"gridcolor\":\"white\",\"linecolor\":\"white\",\"ticks\":\"\",\"title\":{\"standoff\":15},\"zerolinecolor\":\"white\",\"automargin\":true,\"zerolinewidth\":2},\"scene\":{\"xaxis\":{\"backgroundcolor\":\"#E5ECF6\",\"gridcolor\":\"white\",\"linecolor\":\"white\",\"showbackground\":true,\"ticks\":\"\",\"zerolinecolor\":\"white\",\"gridwidth\":2},\"yaxis\":{\"backgroundcolor\":\"#E5ECF6\",\"gridcolor\":\"white\",\"linecolor\":\"white\",\"showbackground\":true,\"ticks\":\"\",\"zerolinecolor\":\"white\",\"gridwidth\":2},\"zaxis\":{\"backgroundcolor\":\"#E5ECF6\",\"gridcolor\":\"white\",\"linecolor\":\"white\",\"showbackground\":true,\"ticks\":\"\",\"zerolinecolor\":\"white\",\"gridwidth\":2}},\"shapedefaults\":{\"line\":{\"color\":\"#2a3f5f\"}},\"annotationdefaults\":{\"arrowcolor\":\"#2a3f5f\",\"arrowhead\":0,\"arrowwidth\":1},\"geo\":{\"bgcolor\":\"white\",\"landcolor\":\"#E5ECF6\",\"subunitcolor\":\"white\",\"showland\":true,\"showlakes\":true,\"lakecolor\":\"white\"},\"title\":{\"x\":0.05},\"mapbox\":{\"style\":\"light\"}}},\"legend\":{\"tracegroupgap\":0},\"title\":{\"text\":\"Distribution of Crimes by Time of Day - Day/Evening/Night\"}},                        {\"responsive\": true}                    ).then(function(){\n",
       "                            \n",
       "var gd = document.getElementById('30a43f40-9f23-441b-8b88-a3aad6fb29b0');\n",
       "var x = new MutationObserver(function (mutations, observer) {{\n",
       "        var display = window.getComputedStyle(gd).display;\n",
       "        if (!display || display === 'none') {{\n",
       "            console.log([gd, 'removed!']);\n",
       "            Plotly.purge(gd);\n",
       "            observer.disconnect();\n",
       "        }}\n",
       "}});\n",
       "\n",
       "// Listen for the removal of the full notebook cells\n",
       "var notebookContainer = gd.closest('#notebook-container');\n",
       "if (notebookContainer) {{\n",
       "    x.observe(notebookContainer, {childList: true});\n",
       "}}\n",
       "\n",
       "// Listen for the clearing of the current output cell\n",
       "var outputEl = gd.closest('.output');\n",
       "if (outputEl) {{\n",
       "    x.observe(outputEl, {childList: true});\n",
       "}}\n",
       "\n",
       "                        })                };                });            </script>        </div>"
      ]
     },
     "metadata": {},
     "output_type": "display_data"
    }
   ],
   "source": [
    "import plotly.express as px\n",
    "\n",
    "fig = px.pie(data_frame = time_of_day, values = 'Incident Count', names = 'Time of Day (ENG)', title = 'Distribution of Crimes by Time of Day - Day/Evening/Night')\n",
    "fig.show()"
   ]
  },
  {
   "cell_type": "code",
   "execution_count": null,
   "id": "2de5dd68-b2d5-4f0c-b463-6cf46c055215",
   "metadata": {},
   "outputs": [],
   "source": []
  },
  {
   "cell_type": "code",
   "execution_count": null,
   "id": "22bff061-ca6b-4c67-9545-03c8ac4af6d7",
   "metadata": {},
   "outputs": [],
   "source": []
  },
  {
   "cell_type": "code",
   "execution_count": null,
   "id": "4d84c4b4-1f95-4180-9ad8-6f7b4f688eba",
   "metadata": {},
   "outputs": [],
   "source": []
  },
  {
   "cell_type": "code",
   "execution_count": null,
   "id": "ff326dd2-7e93-4b7a-8c0a-9d3ffe73a9f3",
   "metadata": {},
   "outputs": [],
   "source": []
  },
  {
   "cell_type": "code",
   "execution_count": null,
   "id": "a98701ef-9e7e-4407-b6b4-82d3b3d8e0c1",
   "metadata": {},
   "outputs": [],
   "source": []
  },
  {
   "cell_type": "code",
   "execution_count": null,
   "id": "4e7ecf27-7c1e-4d55-bdb6-47c005f4a488",
   "metadata": {},
   "outputs": [],
   "source": []
  },
  {
   "cell_type": "code",
   "execution_count": null,
   "id": "aca09dce-81d7-44b0-a97f-8aa8b76b4638",
   "metadata": {},
   "outputs": [],
   "source": []
  },
  {
   "cell_type": "code",
   "execution_count": null,
   "id": "3ae3e290-e294-45cc-95df-3925c2324d7a",
   "metadata": {},
   "outputs": [],
   "source": []
  },
  {
   "cell_type": "code",
   "execution_count": null,
   "id": "89d68909-e87a-415b-a0d8-7de2456ce939",
   "metadata": {},
   "outputs": [],
   "source": []
  },
  {
   "cell_type": "code",
   "execution_count": null,
   "id": "85afd8d9-71bb-4d15-b5a2-a93d53dd1ed6",
   "metadata": {},
   "outputs": [],
   "source": []
  },
  {
   "cell_type": "code",
   "execution_count": null,
   "id": "62f86801-89a6-4202-af39-241291b574c7",
   "metadata": {},
   "outputs": [],
   "source": []
  },
  {
   "cell_type": "code",
   "execution_count": null,
   "id": "a55055b5-b5e2-4cb4-ae77-98dd42e5d471",
   "metadata": {},
   "outputs": [],
   "source": []
  },
  {
   "cell_type": "code",
   "execution_count": null,
   "id": "281b3007-f338-4d42-921b-75f7afe14f44",
   "metadata": {},
   "outputs": [],
   "source": []
  },
  {
   "cell_type": "code",
   "execution_count": null,
   "id": "4cb70c39-50a2-4490-9916-ccdf04b9b12b",
   "metadata": {},
   "outputs": [],
   "source": []
  },
  {
   "cell_type": "code",
   "execution_count": null,
   "id": "a5ab26fc-f48c-47e1-87d8-c3c0185fcf04",
   "metadata": {},
   "outputs": [],
   "source": []
  },
  {
   "cell_type": "code",
   "execution_count": null,
   "id": "c5d7c8e7-2960-4e93-a366-8a5b6dfb879c",
   "metadata": {},
   "outputs": [],
   "source": []
  },
  {
   "cell_type": "code",
   "execution_count": null,
   "id": "cbe39c58-2419-4b70-aca6-2921b9d668f6",
   "metadata": {},
   "outputs": [],
   "source": []
  },
  {
   "cell_type": "code",
   "execution_count": null,
   "id": "214b1f26-9bd5-42a4-8fdf-61c50d5daf35",
   "metadata": {},
   "outputs": [],
   "source": []
  },
  {
   "cell_type": "code",
   "execution_count": null,
   "id": "1750e726-e53c-470b-9575-efa8d1032966",
   "metadata": {},
   "outputs": [],
   "source": []
  },
  {
   "cell_type": "code",
   "execution_count": null,
   "id": "c6e56cc2-fb77-4ec5-ab89-eeb569589df4",
   "metadata": {},
   "outputs": [],
   "source": []
  },
  {
   "cell_type": "code",
   "execution_count": null,
   "id": "23342a60-9dd6-471d-bd15-991963cbb883",
   "metadata": {},
   "outputs": [],
   "source": []
  },
  {
   "cell_type": "code",
   "execution_count": null,
   "id": "85f939f2-64a7-4253-b0c0-53ce7418a851",
   "metadata": {},
   "outputs": [],
   "source": []
  },
  {
   "cell_type": "code",
   "execution_count": null,
   "id": "d6bee6f8-98fb-4bcf-9cce-c97eed14f974",
   "metadata": {},
   "outputs": [],
   "source": []
  }
 ],
 "metadata": {
  "kernelspec": {
   "display_name": "Python 3",
   "language": "python",
   "name": "python3"
  },
  "language_info": {
   "codemirror_mode": {
    "name": "ipython",
    "version": 3
   },
   "file_extension": ".py",
   "mimetype": "text/x-python",
   "name": "python",
   "nbconvert_exporter": "python",
   "pygments_lexer": "ipython3",
   "version": "3.8.8"
  }
 },
 "nbformat": 4,
 "nbformat_minor": 5
}
